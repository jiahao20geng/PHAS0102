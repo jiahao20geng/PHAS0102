{
  "nbformat": 4,
  "nbformat_minor": 0,
  "metadata": {
    "colab": {
      "provenance": [],
      "collapsed_sections": [],
      "authorship_tag": "ABX9TyNyFVEUTDItvl7Wzt1b/+xd",
      "include_colab_link": true
    },
    "kernelspec": {
      "name": "python3",
      "display_name": "Python 3"
    },
    "language_info": {
      "name": "python"
    }
  },
  "cells": [
    {
      "cell_type": "markdown",
      "metadata": {
        "id": "view-in-github",
        "colab_type": "text"
      },
      "source": [
        "<a href=\"https://colab.research.google.com/github/jiahao20geng/PHAS0102/blob/main/PHAS0102_week2_Numba.ipynb\" target=\"_parent\"><img src=\"https://colab.research.google.com/assets/colab-badge.svg\" alt=\"Open In Colab\"/></a>"
      ]
    },
    {
      "cell_type": "code",
      "execution_count": null,
      "metadata": {
        "colab": {
          "base_uri": "https://localhost:8080/"
        },
        "id": "qtEiAkoD5bJk",
        "outputId": "a7d54068-66b7-4b9c-e80d-7cba06844b9a"
      },
      "outputs": [
        {
          "output_type": "stream",
          "name": "stdout",
          "text": [
            "45.0\n",
            "0.9169554710388184\n"
          ]
        }
      ],
      "source": [
        "from numba import njit,jit\n",
        "from numpy import arange\n",
        "import time\n",
        "import matplotlib.pylab as plt\n",
        "import numpy as np\n",
        "start=time.time()\n",
        "@njit\n",
        "def sum(arr):\n",
        "  m,n=arr.shape\n",
        "  result=0.0\n",
        "  for i in range(m):\n",
        "    for j in range(n):\n",
        "      result+=arr[i,j]\n",
        "  return result\n",
        "a=arange(10).reshape(2,5)\n",
        "print(sum(a))\n",
        "\n",
        "end=time.time()\n",
        "print(end-start)\n"
      ]
    },
    {
      "cell_type": "code",
      "source": [
        "class Timer:\n",
        "  def enter(self):\n",
        "    self.start=time.time()\n",
        "    return self\n",
        "  def exit(self,*args):\n",
        "    self.end=time.time()\n",
        "    self.interval=self.end-self.start\n",
        "  \n",
        "    "
      ],
      "metadata": {
        "id": "aoFNoKv071hI"
      },
      "execution_count": null,
      "outputs": []
    },
    {
      "cell_type": "code",
      "source": [
        "@njit\n",
        "def square(c):\n",
        "  n = 0\n",
        "  for i in range(100):\n",
        "    n = n ** 2 + c\n",
        "    if abs(n) > 100:\n",
        "      return i\n",
        "  return 100"
      ],
      "metadata": {
        "id": "U7fyLfN0_MO6"
      },
      "execution_count": null,
      "outputs": []
    },
    {
      "cell_type": "code",
      "source": [
        "@njit\n",
        "def compute_data():\n",
        "  data = np.zeros((1001, 1001))\n",
        "  for x in range(1001):\n",
        "    for y in range(1001):\n",
        "      c = (-2 + 4 * x/1000) + 1j * (-2 + 4 * y/1000)\n",
        "      data[-1-y, x] = square(c)\n",
        "  return data"
      ],
      "metadata": {
        "id": "1NSTw8kl_X3z"
      },
      "execution_count": null,
      "outputs": []
    },
    {
      "cell_type": "code",
      "source": [
        "start = time.time()\n",
        "data = compute_data()\n",
        "end = time.time()\n",
        "print(\"Time taken:\", end-start)\n",
        "plt.imshow(data, extent=[-2, 2, -2, 2])"
      ],
      "metadata": {
        "colab": {
          "base_uri": "https://localhost:8080/",
          "height": 303
        },
        "id": "FLj5E1Ec_bIh",
        "outputId": "5207b5e0-069b-434d-a120-eb50d1210b72"
      },
      "execution_count": null,
      "outputs": [
        {
          "output_type": "stream",
          "name": "stdout",
          "text": [
            "Time taken: 1.8243381977081299\n"
          ]
        },
        {
          "output_type": "execute_result",
          "data": {
            "text/plain": [
              "<matplotlib.image.AxesImage at 0x7fb52daabfd0>"
            ]
          },
          "metadata": {},
          "execution_count": 5
        },
        {
          "output_type": "display_data",
          "data": {
            "text/plain": [
              "<Figure size 432x288 with 1 Axes>"
            ],
            "image/png": "[encoded data removed]"
          },
          "metadata": {
            "needs_background": "light"
          }
        }
      ]
    },
    {
      "cell_type": "code",
      "source": [
        "import numexpr as ne\n",
        "a = np.random.rand(100000000)\n",
        "b = np.random.rand(100000000)\n",
        "start = time.time()\n",
        "c = a - b >0\n",
        "end = time.time()\n",
        "print(end - start)\n"
      ],
      "metadata": {
        "colab": {
          "base_uri": "https://localhost:8080/"
        },
        "id": "BITHK4OAA7o2",
        "outputId": "ebc46f18-8076-4e97-806c-6d38e6d457dc"
      },
      "execution_count": null,
      "outputs": [
        {
          "output_type": "stream",
          "name": "stdout",
          "text": [
            "0.8610281944274902\n"
          ]
        }
      ]
    },
    {
      "cell_type": "code",
      "source": [
        "start = time.time()\n",
        "c = ne.evaluate(\"a - b > 0\")\n",
        "end = time.time()\n",
        "print(end - start)"
      ],
      "metadata": {
        "colab": {
          "base_uri": "https://localhost:8080/"
        },
        "id": "LbLCcaQeBDQj",
        "outputId": "b95f0ce1-9474-4f2a-afac-d2e4cc77afaf"
      },
      "execution_count": null,
      "outputs": [
        {
          "output_type": "stream",
          "name": "stdout",
          "text": [
            "0.38990259170532227\n"
          ]
        }
      ]
    }
  ]
}