{
  "nbformat": 4,
  "nbformat_minor": 0,
  "metadata": {
    "colab": {
      "provenance": [],
      "collapsed_sections": [],
      "authorship_tag": "ABX9TyO8ixTmYt75fzE43MPT6yR1",
      "include_colab_link": true
    },
    "kernelspec": {
      "name": "python3",
      "display_name": "Python 3"
    },
    "language_info": {
      "name": "python"
    },
    "accelerator": "GPU"
  },
  "cells": [
    {
      "cell_type": "markdown",
      "metadata": {
        "id": "view-in-github",
        "colab_type": "text"
      },
      "source": [
        "<a href=\"https://colab.research.google.com/github/jiahao20geng/PHAS0102/blob/main/PHAS0102_week3_Cuda.ipynb\" target=\"_parent\"><img src=\"https://colab.research.google.com/assets/colab-badge.svg\" alt=\"Open In Colab\"/></a>"
      ]
    },
    {
      "cell_type": "code",
      "execution_count": null,
      "metadata": {
        "id": "w5dWYbVpGXe5"
      },
      "outputs": [],
      "source": [
        "import numpy as np\n",
        "import numba\n",
        "from numba import cuda\n",
        "from time import time"
      ]
    },
    {
      "cell_type": "code",
      "source": [
        "cuda.detect()"
      ],
      "metadata": {
        "colab": {
          "base_uri": "https://localhost:8080/"
        },
        "id": "89aWWclCJFfz",
        "outputId": "81c02100-97e0-408d-96d5-76394d6050a3"
      },
      "execution_count": null,
      "outputs": [
        {
          "output_type": "stream",
          "name": "stdout",
          "text": [
            "Found 1 CUDA devices\n",
            "id 0             b'Tesla T4'                              [SUPPORTED]\n",
            "                      Compute Capability: 7.5\n",
            "                           PCI Device ID: 4\n",
            "                              PCI Bus ID: 0\n",
            "                                    UUID: GPU-2e8cdd63-62bc-cf20-a89f-dd846bf9a7f4\n",
            "                                Watchdog: Disabled\n",
            "             FP32/FP64 Performance Ratio: 32\n",
            "Summary:\n",
            "\t1/1 devices are supported\n"
          ]
        },
        {
          "output_type": "execute_result",
          "data": {
            "text/plain": [
              "True"
            ]
          },
          "metadata": {},
          "execution_count": 3
        }
      ]
    },
    {
      "cell_type": "code",
      "source": [
        "a = np.random.rand(100000000).astype(\"float32\")#type()返回参数的数据类型 dtype返回数组中元素的数据类型 astype()对数据类型进行转换\n",
        "b = np.random.rand(100000000).astype(\"float32\")\n",
        "\n",
        "result = np.empty(1000000000, dtype=\"float32\")"
      ],
      "metadata": {
        "id": "Zv7QuW-nHTEu"
      },
      "execution_count": null,
      "outputs": []
    },
    {
      "cell_type": "code",
      "source": [
        "start = time()\n",
        "result = a + b\n",
        "end=time()\n",
        "print(end - start)"
      ],
      "metadata": {
        "colab": {
          "base_uri": "https://localhost:8080/"
        },
        "id": "-392ieTtHt6I",
        "outputId": "1d24ff43-f86b-4007-f95e-3a095e91384b"
      },
      "execution_count": null,
      "outputs": [
        {
          "output_type": "stream",
          "name": "stdout",
          "text": [
            "0.10054707527160645\n"
          ]
        }
      ]
    },
    {
      "cell_type": "code",
      "source": [
        "@numba.njit\n",
        "def add(a, b, result):\n",
        "  for i in range(100000000):\n",
        "    result[i] = a[i] + b[i]"
      ],
      "metadata": {
        "id": "E6y2zEfCIEYE"
      },
      "execution_count": null,
      "outputs": []
    },
    {
      "cell_type": "code",
      "source": [
        "result = np.empty(100000000, dtype=\"float32\")\n",
        "\n",
        "start = time()\n",
        "add(a, b, result)\n",
        "print(time() - start)"
      ],
      "metadata": {
        "colab": {
          "base_uri": "https://localhost:8080/"
        },
        "id": "0mI-uJc7JO-w",
        "outputId": "920525a4-52d4-4b3b-d99f-6d8eb6a55bd3"
      },
      "execution_count": null,
      "outputs": [
        {
          "output_type": "stream",
          "name": "stdout",
          "text": [
            "0.6669986248016357\n"
          ]
        }
      ]
    },
    {
      "cell_type": "code",
      "source": [
        "@cuda.jit\n",
        "def add2(a, b, result):\n",
        "  for i in range(100000000):\n",
        "    result[i] = a[i] + b[i]\n"
      ],
      "metadata": {
        "id": "qoPQ7ZeGIMiU"
      },
      "execution_count": null,
      "outputs": []
    },
    {
      "cell_type": "code",
      "source": [
        "result = np.empty(100000000, dtype=\"float32\")\n",
        "\n",
        "griddim = (128,)\n",
        "blockdim = (64,)\n",
        "\n",
        "a2 = cuda.to_device(a)\n",
        "b2 = cuda.to_device(b)\n",
        "r2 = cuda.to_device(result)\n",
        "\n",
        "start = time()\n",
        "\n",
        "add2[griddim, blockdim](a2, b2, r2)\n",
        "print(time() - start)"
      ],
      "metadata": {
        "colab": {
          "base_uri": "https://localhost:8080/"
        },
        "id": "cH0flmH0JTZe",
        "outputId": "55ca68bc-b120-4977-d196-ba2154670a11"
      },
      "execution_count": null,
      "outputs": [
        {
          "output_type": "stream",
          "name": "stdout",
          "text": [
            "0.0003998279571533203\n"
          ]
        }
      ]
    },
    {
      "cell_type": "code",
      "source": [],
      "metadata": {
        "id": "bFoVh2DGNucR"
      },
      "execution_count": null,
      "outputs": []
    }
  ]
}